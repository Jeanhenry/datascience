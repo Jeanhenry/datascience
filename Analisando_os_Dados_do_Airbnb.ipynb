{
  "nbformat": 4,
  "nbformat_minor": 0,
  "metadata": {
    "colab": {
      "name": "Analisando os Dados do Airbnb.ipynb",
      "provenance": [],
      "collapsed_sections": [],
      "include_colab_link": true
    },
    "kernelspec": {
      "name": "python3",
      "display_name": "Python 3"
    }
  },
  "cells": [
    {
      "cell_type": "markdown",
      "metadata": {
        "id": "view-in-github",
        "colab_type": "text"
      },
      "source": [
        "<a href=\"https://colab.research.google.com/github/Jeanhenry/datascience/blob/master/Analisando_os_Dados_do_Airbnb.ipynb\" target=\"_parent\"><img src=\"https://colab.research.google.com/assets/colab-badge.svg\" alt=\"Open In Colab\"/></a>"
      ]
    },
    {
      "cell_type": "markdown",
      "metadata": {
        "id": "kLI0gJtzDGuQ",
        "colab_type": "text"
      },
      "source": [
        "<img alt=\"Colaboratory logo\" width=\"15%\" src=\"https://i.ibb.co/2Zy6D4y/logo-colab.png\" alt=\"logo-colab\" border=\"0\">\n",
        "\n",
        "#### **Data Science na Prática 2.0**\n",
        "*by [jean henry](www.linkedin.com/in/jeanhenry)*\n",
        "\n",
        "---\n",
        "\n",
        "\n",
        "<img alt=\"Analisando Airbnb\" width=\"10%\" src=\"https://www.area360.com.au/wp-content/uploads/2017/09/airbnb-logo.jpg\">\n",
        "\n",
        "# Análise dos Dados do Airbnb - *Rio de Janeiro/RJ*\n",
        "\n",
        "O [Airbnb](https://www.airbnb.com.br/) é uma das pioneiras nesse ramo de \"aluguel de imóveis\", indo de frente com muitos hotéis, ela se tornou referencia.\n",
        "\n",
        "Um meio mais fácil e mais pratico _(mas não quer dir que seja seguro)_ de viajar e ter um \"canto pra ficar\".\n",
        "\n",
        "Uma das iniciativas do Airbnb é disponibilizar dados do site, para algumas das principais cidades do mundo. Por meio do portal [Inside Airbnb](http://insideairbnb.com/get-the-data.html), é possível baixar uma grande quantidade de dados para desenvolver projetos e soluções de *Data Science*.\n",
        "\n",
        "**Neste *notebook*, iremos analisar os dados referentes à cidade Rio de Janeiro, e ver quais insights podem ser extraídos a partir de dados brutos.**"
      ]
    },
    {
      "cell_type": "markdown",
      "metadata": {
        "id": "0zxQHhIUDF_2",
        "colab_type": "text"
      },
      "source": [
        "## Obtenção dos Dados\n",
        "\n",
        "Todos os dados dessa análise, é possivel baixar no proprio site da Airbnb.\n",
        "\n",
        "Para essa análise, estaremos usando apenas o arquivo:\n",
        "\n",
        "* _listing.csv_ da cidade do Rio de Janeiro/RJ\n"
      ]
    },
    {
      "cell_type": "code",
      "metadata": {
        "id": "Vhp2wMPgJ6zX",
        "colab_type": "code",
        "colab": {}
      },
      "source": [
        "# importar os pacotes necessarios\n",
        "import pandas as pd\n",
        "import matplotlib.pyplot as plt\n",
        "import seaborn as sns\n"
      ],
      "execution_count": 0,
      "outputs": []
    },
    {
      "cell_type": "code",
      "metadata": {
        "id": "tUmoAT8DLQ5T",
        "colab_type": "code",
        "colab": {}
      },
      "source": [
        "# importar o arquivo listings.csv para um DataFrame\n",
        "df = pd.read_csv(\"http://data.insideairbnb.com/brazil/rj/rio-de-janeiro/2020-04-20/visualisations/listings.csv\")"
      ],
      "execution_count": 0,
      "outputs": []
    },
    {
      "cell_type": "markdown",
      "metadata": {
        "id": "qb5By2nIMS6m",
        "colab_type": "text"
      },
      "source": [
        "## Análise dos Dados\n",
        "\n",
        "Abaixo vamos detalhar todos as variaveis deste dataset, para que possamos entender melhor a nossa base de dados.😉\n"
      ]
    },
    {
      "cell_type": "markdown",
      "metadata": {
        "id": "RYgvuebKNg8-",
        "colab_type": "text"
      },
      "source": [
        "**Dicionário das variáveis**\n",
        "\n",
        "* _id_ > número de id gerado pelo proprio Airbnb para identificar o imóvel\n",
        "* _name_ > nome do imóvel em questão\n",
        "* _host_id_ > número de id do proprietário do imóvel\n",
        "* _host_name_ > Nome do proprietário do imóvel\n",
        "* _neighbourhood_group_ > coluna vazia, sem informação para análise\n",
        "* _neighbourhood_ > nome do bairro do imóvel\n",
        "* _latitude_ > coordenada geográfica do impovel \n",
        "* _longitude_ > coordenada geográfica do impovel\n",
        "* _room_type_ > tipo de quarto oferecido no anuncio\n",
        "* _price_ > valor do aluguel\n",
        "* _minimun_nights_ > quantidade minima de noites para se hospedar\n",
        "* _number_of_reviews_ > número reviews do imóvel\n",
        "* _last_review_ > data do último review do imóvel\n",
        "* _reviews_per_month_ > quantidade de reviews por mês\n",
        "* _calculated_host_listings_count_ > quantidade de imóveis do mesmo proprietário\n",
        "* _availability_365_ > número de disponibilidade dentro de 365 dias\n",
        "\n",
        "\n",
        "Agora vamos dar um confere em nosso dataset pra entender melhor nosso *dataset*, de imediato vamos listar apenas as 5 primeiras entradas."
      ]
    },
    {
      "cell_type": "code",
      "metadata": {
        "id": "2iS_dae7YQtO",
        "colab_type": "code",
        "colab": {}
      },
      "source": [
        "# mostrar as 5 primeiras entradas\n",
        "df.head()"
      ],
      "execution_count": 0,
      "outputs": []
    },
    {
      "cell_type": "markdown",
      "metadata": {
        "id": "6-B_qtEaYEd-",
        "colab_type": "text"
      },
      "source": [
        "### **Q1. Quantos atributos (variáveis) e quantas entradas o nosso conjunto de dados possui? Quais os tipos das variáveis?**\n",
        "\n",
        "Para essa análise inicial, estaremos usando um Dataset resumido, mas no próprio site onde baixamos esse, possui um mais completo com +-35.847 registros(entradas) e +-106 colunas (variaveis)"
      ]
    },
    {
      "cell_type": "code",
      "metadata": {
        "id": "TFRK0tniLV-G",
        "colab_type": "code",
        "colab": {}
      },
      "source": [
        "# identificar o volume de dados do DataFrame\n",
        "print('No DataSet em questão, temos',df.shape[0],'registros.') #numero de registros/entradas\n",
        "print('No DataSet em questão, temos',df.shape[1],'colunas.','\\n') #numero de colunas/variavies\n",
        "\n",
        "# verificar as 5 primeiras entradas do dataset [PLUS]\n",
        "print(df.dtypes,'\\n')\n",
        "\n",
        "# verificar as 5 primeiras entradas do dataset\n",
        "df.head()"
      ],
      "execution_count": 0,
      "outputs": []
    },
    {
      "cell_type": "markdown",
      "metadata": {
        "id": "yz1urSUGW9iE",
        "colab_type": "text"
      },
      "source": [
        "### **Q2. Qual a porcentagem de valores ausentes no *dataset*?**\n",
        "\n",
        "Para qualquer análise, é de suma importância entender o real cenário do dataset, quando digo isso quero dizer, entender se o dataset possui dados **NULOS**, dados inconsistentes e se esse dados vão afetar em nossa análise ou não, caso contrário, devemos tratar esses dados.\n",
        "\n",
        "**Conclusão**\n",
        "* Das 16 colunas disponiveis no dataset:\n",
        "  * mais da metade delas possui 0% de _\"dados nulos\"_ (isso é bom mas não quer dizer nada ainda, devemos ver se esses dados são ou possuem outliers)\n",
        "  * 2 colunas (reviews_per_month e last_review), possuem 40% de \"dados nulos\"\n",
        "  * A coluna neighbourhood_group, possui 100% de \"dados nulos\" (se essa coluna não agregar em nossa análise, podemos eliminar)"
      ]
    },
    {
      "cell_type": "code",
      "metadata": {
        "id": "plk2FjbCXOqP",
        "colab_type": "code",
        "colab": {}
      },
      "source": [
        "# ordenar em ordem decrescente as variáveis por seus valores ausentes\n",
        "\n",
        "(df.isnull().sum() / df.shape[0]).sort_values(ascending=False)"
      ],
      "execution_count": 0,
      "outputs": []
    },
    {
      "cell_type": "markdown",
      "metadata": {
        "id": "iHXvvHIxaoNc",
        "colab_type": "text"
      },
      "source": [
        "### **Q3. Qual o tipo de distribuição das variáveis?** \n"
      ]
    },
    {
      "cell_type": "code",
      "metadata": {
        "id": "q2wWSfeRbmBo",
        "colab_type": "code",
        "colab": {}
      },
      "source": [
        "# plotar o histograma das variáveis numéricas\n",
        "df.hist(bins=15, figsize=(15,10));"
      ],
      "execution_count": 0,
      "outputs": []
    },
    {
      "cell_type": "markdown",
      "metadata": {
        "id": "nCdZVB-kb5Q2",
        "colab_type": "text"
      },
      "source": [
        "**+ ANÁLISE**\n",
        "\n",
        "No histograma acima, conseguimos ver claramente que existe um ou mais _outliers_.\n",
        "* O preço do imóvel (price) \n",
        "* Mínimo de noites (minimun_nights)\n",
        "\n",
        "_Esses outliers devem ser tratados, caso contrário nos retorna informações inconcistentes e com isso a nossa análise vai estar incorreta_\n",
        "\n",
        "Para tirarmos a prova dos 9 se existe outliers, vamos realizar 2 visões:\n",
        "\n",
        "  * Usando o _describe()_\n",
        "  * Plotando um _boxplots_ para cada variavel que acreditamos ter ums distorção de valores."
      ]
    },
    {
      "cell_type": "code",
      "metadata": {
        "id": "rN9L9FCRePTF",
        "colab_type": "code",
        "colab": {}
      },
      "source": [
        "# ver resumo estatistico das variaveis numericas\n",
        "\n",
        "df[['price','minimum_nights','number_of_reviews','reviews_per_month',\n",
        "    'calculated_host_listings_count','availability_365']].describe()"
      ],
      "execution_count": 0,
      "outputs": []
    },
    {
      "cell_type": "markdown",
      "metadata": {
        "id": "vQNayUiBe932",
        "colab_type": "text"
      },
      "source": [
        "Viu só, até que não estavamos tão enganado assim, vejas as colunas e me diz se não tem algo estranho? Mesmo não sendo e caso não conheça o estado do _RIO DE JANEIRO_\n",
        "\n",
        "**_Analisando a coluna price_**\n",
        "* Existe 1 ou + imóveis que não possuem valores de aluguel.\n",
        "* Olha o valor máximo do aluguel. Esta na faixa de R$131.727,00... Onde sera  essa moradia em?rs\n",
        "\n",
        "**_Analisando a coluna minimum_nights_**\n",
        "* Sera que tem alguem que fique + de 1 ano hospedado pelo Airbnb?\n",
        "\n",
        "E por ai vai, seguindo essa análise conseguimos entender com mais clareza nossas variáveis.\n",
        "\n",
        "Agora vamos plotar um _boxplots_ só pra fecharmos nossa análise com chave de ouro.\n"
      ]
    },
    {
      "cell_type": "code",
      "metadata": {
        "id": "K2MCp2fEiyT4",
        "colab_type": "code",
        "colab": {}
      },
      "source": [
        "#price\n",
        "df.minimum_nights.plot(kind='box', vert=False, figsize=(15,3))\n",
        "plt.show\n",
        "\n",
        "\n",
        "#ver a qtd de valores acima de R$1.500 para price\n",
        "print(\"price: valores acima de R$1.500\")\n",
        "print('Entradas:',len(df[df.price > 1500]))\n",
        "print((len(df[df.price > 1500]) / df.shape[0]) * 100,'\\n')"
      ],
      "execution_count": 0,
      "outputs": []
    },
    {
      "cell_type": "markdown",
      "metadata": {
        "id": "fqoWK6B6jrGk",
        "colab_type": "text"
      },
      "source": [
        "**FINALIZANDO A VISÃO DE OUTLIERS**\n",
        "\n",
        "Conseguimos identificar quais são os nossos outliers, vamos tratar nosso Dataset"
      ]
    },
    {
      "cell_type": "code",
      "metadata": {
        "id": "s14jjhGaj4Ux",
        "colab_type": "code",
        "colab": {}
      },
      "source": [
        "#remover os outliers em um novo df\n",
        "df_clean = df.copy()\n",
        "df_clean.drop(df_clean[df_clean.price > 1500].index, axis=0, inplace=True)\n",
        "df_clean.drop(df_clean[df_clean.minimum_nights > 30].index, axis=0, inplace=True)\n",
        "\n",
        "#remover a coluna neighbourhood_group, pois esta 100% nulo\n",
        "df_clean.drop('neighbourhood_group',axis=1, inplace=True)\n",
        "\n",
        "#plotar um novo histograma mas LIMPO sem os outliers e a coluna 100% NULA\n",
        "df_clean.hist(bins=15, figsize=(15,10));\n"
      ],
      "execution_count": 0,
      "outputs": []
    },
    {
      "cell_type": "code",
      "metadata": {
        "id": "wJzIA-91gePT",
        "colab_type": "code",
        "colab": {}
      },
      "source": [
        "#minimun_nights\n",
        "df.minimum_nights.plot(kind='box', vert=False, figsize=(15,3))\n",
        "plt.show\n",
        "\n",
        "#ver a qtd de valores acima de 30 dias para minimum_nights\n",
        "print(\"minimum_nights: valores acima de 30 dias\")\n",
        "print('Entradas:',len(df[df.minimum_nights > 30]))\n",
        "print((len(df[df.minimum_nights > 30]) / df.shape[0]) * 100,'\\n')"
      ],
      "execution_count": 0,
      "outputs": []
    },
    {
      "cell_type": "markdown",
      "metadata": {
        "id": "7x4aw1j5wNmn",
        "colab_type": "text"
      },
      "source": [
        "### **Q4. Qual a média dos preços de aluguel?**"
      ]
    },
    {
      "cell_type": "code",
      "metadata": {
        "id": "ff-8gUahLk-C",
        "colab_type": "code",
        "colab": {}
      },
      "source": [
        "# ver a média da coluna `price``\n",
        "df['price'].describe()\n",
        "\n",
        "#Conseguimos identificar em mean, que nesse caso é 753.686367"
      ],
      "execution_count": 0,
      "outputs": []
    },
    {
      "cell_type": "markdown",
      "metadata": {
        "id": "IXn2oIo5qx-w",
        "colab_type": "text"
      },
      "source": [
        "### **Q4. Qual a correlação existente entre as variáveis**"
      ]
    },
    {
      "cell_type": "code",
      "metadata": {
        "id": "x2ayzBajqxyd",
        "colab_type": "code",
        "colab": {}
      },
      "source": [
        "# criar uma matriz de correlação\n",
        "corr = df_clean[['price', 'minimum_nights', 'number_of_reviews', 'reviews_per_month',\n",
        "    'calculated_host_listings_count', 'availability_365']].corr()\n",
        "\n",
        "# mostrar a matriz de correlação\n",
        "display(corr)\n",
        "\n",
        "# plotar um heatmap a partir das correlações\n",
        "sns.heatmap(corr, cmap='RdBu', fmt='.2f', square=True, linecolor='white', annot=True);\n"
      ],
      "execution_count": 0,
      "outputs": []
    },
    {
      "cell_type": "markdown",
      "metadata": {
        "id": "7b6RMWpuHKN-",
        "colab_type": "text"
      },
      "source": [
        "### **Q5. Qual o tipo de imóvel mais alugado no Airbnb?**\n",
        "\n",
        "Nessa análise podemos identificar alguns tipos de aluguéis, como:\n",
        "* apartamentos\n",
        "* casas inteiras\n",
        "* aluguel de 1 quarto\n",
        "* dividir quarto com outras pessoas"
      ]
    },
    {
      "cell_type": "code",
      "metadata": {
        "id": "ueLPNWvPHgfB",
        "colab_type": "code",
        "colab": {}
      },
      "source": [
        "# mostrar a quantidade de cada tipo de imóvel disponível\n",
        "\n",
        "df_clean.room_type.value_counts()"
      ],
      "execution_count": 0,
      "outputs": []
    },
    {
      "cell_type": "code",
      "metadata": {
        "id": "EvwoO-XAHhIm",
        "colab_type": "code",
        "colab": {}
      },
      "source": [
        "# mostrar a porcentagem de cada tipo de imóvel disponível\n",
        "\n",
        "df_clean.room_type.value_counts() / df_clean.shape[0]"
      ],
      "execution_count": 0,
      "outputs": []
    },
    {
      "cell_type": "markdown",
      "metadata": {
        "id": "MFa5NbnLJMcd",
        "colab_type": "text"
      },
      "source": [
        "### **Q6. Qual a localidade mais cara do dataset?**\n",
        "\n",
        "Pra essa análise, usaremos a seguinte variavel _neighbourhood_.\n",
        "\n"
      ]
    },
    {
      "cell_type": "code",
      "metadata": {
        "id": "MD_xa143JZpi",
        "colab_type": "code",
        "colab": {}
      },
      "source": [
        "# ver preços por bairros, na média\n",
        "df_clean.groupby(['neighbourhood']).price.mean().sort_values(ascending=False)[:10]\n"
      ],
      "execution_count": 0,
      "outputs": []
    },
    {
      "cell_type": "markdown",
      "metadata": {
        "id": "G3cJFzcepGVk",
        "colab_type": "text"
      },
      "source": [
        "**OBSERVAÇÃO**\n",
        "\n",
        "Chegamos um ponto interresante de nossa análise, pra quem conhece o estado do RIO DE JANEIRO, sabe que o bairro de Vaz Lobo fica situado na Zona NORTE e onde bem sabemos a Zona SUL, de qualquer lugar se trata do lugar + caro com relação a moradia, alimentação e demais itens (chamamos de custo benefício), com isso, ja iria ligar o alerta ao ver esse cenário, mas para quem não conhece o RJ, ficaria meio complicado entender isso (+-), pois sabemos que os bairros de **COPACABANA, LEBLON, IPANEMA, BARRA DA TIJUCA** nem aparece nesse visual. Esta ai o diferencial de quem estiver realizando a análise de um dataset, entender se o que esta retornando para nós é de fato o que acontece na atualidade, vamos entender melhor esse resultado abaixo, realizando uma pequena análise + profunda e simples."
      ]
    },
    {
      "cell_type": "code",
      "metadata": {
        "id": "Addz227XqlUs",
        "colab_type": "code",
        "colab": {}
      },
      "source": [
        "#Qtd de imoveis de Vaz Lobo\n",
        "print(df_clean[df_clean.neighbourhood == \"Vaz Lobo\"].shape)\n",
        "\n",
        "#ver as 3 entradas de Vaz Lobo\n",
        "df_clean[df_clean.neighbourhood == \"Vaz Lobo\"]"
      ],
      "execution_count": 0,
      "outputs": []
    },
    {
      "cell_type": "markdown",
      "metadata": {
        "id": "dARWydphtZR8",
        "colab_type": "text"
      },
      "source": [
        "Com base na análise acima, podemos identificar que no bairro **Vaz Lobo** existem apenas 3 registros de entrada, onde 1 deles com o valor alto."
      ]
    },
    {
      "cell_type": "code",
      "metadata": {
        "id": "oGUvDk2dusXR",
        "colab_type": "code",
        "colab": {}
      },
      "source": [
        "# plotar os imóveis pela latitude-longitude\n",
        "df_clean.plot(kind=\"scatter\", x='longitude', y='latitude',alpha=0.4,c=df_clean['price'],s=8,cmap=plt.get_cmap('jet'),figsize=(12,8));"
      ],
      "execution_count": 0,
      "outputs": []
    },
    {
      "cell_type": "markdown",
      "metadata": {
        "id": "vTneAMRUYvr1",
        "colab_type": "text"
      },
      "source": [
        "### **Q7. Qual é a média do mínimo de noites para aluguel (minimum_nights)?**"
      ]
    },
    {
      "cell_type": "code",
      "metadata": {
        "id": "_VzNhrEgY82N",
        "colab_type": "code",
        "colab": {}
      },
      "source": [
        "# ver a média da coluna `minimum_nights``\n",
        "df['minimum_nights'].describe()\n",
        "\n",
        "#Conseguimos identificar em mean, que nesse caso é 4.781851"
      ],
      "execution_count": 0,
      "outputs": []
    },
    {
      "cell_type": "code",
      "metadata": {
        "id": "VfJl4K8YzW1X",
        "colab_type": "code",
        "colab": {}
      },
      "source": [
        "#maiores bairros com imoveis alugados\n",
        "\n",
        "df_clean.neighbourhood.value_counts()"
      ],
      "execution_count": 0,
      "outputs": []
    },
    {
      "cell_type": "markdown",
      "metadata": {
        "id": "GkvAg623RjoR",
        "colab_type": "text"
      },
      "source": [
        "## Conclusões\n"
      ]
    },
    {
      "cell_type": "markdown",
      "metadata": {
        "id": "rbZ3Hsy9Ypw8",
        "colab_type": "text"
      },
      "source": [
        "Chegamos ao final de uma análise bem ampla, onde conseguimos identificar por detalhes alguns itens _(destes até ja tinhamos uma total certeza pelo nosso achismo)_.\n",
        "\n",
        "* A média de aluguéis no estado do RJ é de **753.68**\n",
        "* Nesse DataSet , vimos que o Bairro com o valor do aluguel mais caro esta localizado na Zona Norte do RJ [VAZ LOBO], mas com nossa análise mais apurada identificamos que houve um \"erro\" na variável preço, pois para esse bairro temos apenas 3 imóveis disponíveis.\n",
        "* Existe uma grande aglomeração de aluguel próximos a praia do RJ (ja era de ser esperado né?)\n",
        "* No TOP 3 de imóveis a serem alugados todos estão localizados na Zona SUL _(mais uma certeza se concretizando)_\n",
        "\n",
        "\n"
      ]
    }
  ]
}